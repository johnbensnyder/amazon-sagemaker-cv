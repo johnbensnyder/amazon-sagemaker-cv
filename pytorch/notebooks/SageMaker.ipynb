{
 "cells": [
  {
   "cell_type": "code",
   "execution_count": 1,
   "id": "e6b80c59-1a40-4c16-aaa7-3da463d1adc9",
   "metadata": {},
   "outputs": [],
   "source": [
    "import os\n",
    "from datetime import datetime\n",
    "from sagemaker import get_execution_role\n",
    "from sagemaker.pytorch import PyTorch"
   ]
  },
  {
   "cell_type": "code",
   "execution_count": 2,
   "id": "375e0a2c-a344-4f41-b5bc-352196136704",
   "metadata": {},
   "outputs": [],
   "source": [
    "os.environ['AWS_DEFAULT_REGION'] = \"us-east-1\"\n",
    "# this is all for naming\n",
    "date_str=datetime.now().strftime(\"%d-%m-%Y\")\n",
    "time_str=datetime.now().strftime(\"%d-%m-%Y-%H-%M-%S\")\n",
    "\n",
    "S3_BUCKET = 'jbsnyder-sagemaker-us-east' # Don't include s3:// in your bucket name\n",
    "S3_DIR = 'ptlightning-tutorial'\n",
    "R50_WEIGHTS=\"resnet50.pkl\"\n",
    "\n",
    "user_id=\"jbsnyder\"\n",
    "\n",
    "# specify training type, s3 src and nodes\n",
    "instance_type=\"ml.p4d.24xlarge\" # This can be any of 'ml.p3dn.24xlarge', 'ml.p4d.24xlarge', 'ml.p3.16xlarge', 'ml.p3.8xlarge', 'ml.p3.2xlarge', 'ml.g4dn.12xlarge'\n",
    "nodes=1\n",
    "s3_location=os.path.join(\"s3://\", S3_BUCKET, S3_DIR)\n",
    "role=get_execution_role() #give Sagemaker permission to launch nodes on our behalf\n",
    "source_dir='../sm_src'\n",
    "\n",
    "entry_point = \"run.sh\"\n",
    "\n",
    "docker_image = \"[acct_num].dkr.ecr.us-east-1.amazonaws.com/jbsnyder:pytorch-mlperf\"\n",
    "\n",
    "job_name = f'{user_id}-{time_str}'\n",
    "output_path = os.path.join(s3_location, \"sagemaker-output\", date_str, job_name)\n",
    "code_location = os.path.join(s3_location, \"sagemaker-code\", date_str, job_name)\n",
    "\n"
   ]
  },
  {
   "cell_type": "code",
   "execution_count": 3,
   "id": "8dd2c04f-9516-4b4a-b539-8e7dd9c697b5",
   "metadata": {},
   "outputs": [],
   "source": [
    "estimator = PyTorch(\n",
    "                entry_point=entry_point, \n",
    "                source_dir=source_dir, \n",
    "                image_uri=docker_image,\n",
    "                role=role,\n",
    "                instance_count=nodes,\n",
    "                instance_type=instance_type,\n",
    "                distribution=None,\n",
    "                output_path=output_path,\n",
    "                checkpoint_s3_uri=output_path,\n",
    "                model_dir=output_path,\n",
    "                volume_size=500,\n",
    "                code_location=code_location,\n",
    "                disable_profiler=True, # Reduce number of logs since we don't need profiler or debugger for this training\n",
    "                debugger_hook_config=False,\n",
    ")"
   ]
  },
  {
   "cell_type": "code",
   "execution_count": 4,
   "id": "cd9bd2fa-c738-44bd-a94f-869e6f8c0b84",
   "metadata": {},
   "outputs": [],
   "source": [
    "estimator.fit(wait=False, job_name=job_name)"
   ]
  },
  {
   "cell_type": "code",
   "execution_count": null,
   "id": "948f0313-7be2-4841-94d0-3a450d769c10",
   "metadata": {},
   "outputs": [],
   "source": []
  }
 ],
 "metadata": {
  "kernelspec": {
   "display_name": "Python 3 (ipykernel)",
   "language": "python",
   "name": "python3"
  },
  "language_info": {
   "codemirror_mode": {
    "name": "ipython",
    "version": 3
   },
   "file_extension": ".py",
   "mimetype": "text/x-python",
   "name": "python",
   "nbconvert_exporter": "python",
   "pygments_lexer": "ipython3",
   "version": "3.9.13"
  }
 },
 "nbformat": 4,
 "nbformat_minor": 5
}
